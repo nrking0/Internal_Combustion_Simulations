{
 "cells": [
  {
   "cell_type": "markdown",
   "metadata": {},
   "source": [
    "# Internal Combustion Engine Simulations\n",
    "This notebook will walk you through the different formulas used to simulate ideal cycles of different internal combustion engine types. This will help show examples of the different engine cycles that you learn in class! To run each cell just type *Shift + Enter* and the code should run. Feel free to play around with engine variables to see how things change!\n"
   ]
  },
  {
   "cell_type": "markdown",
   "metadata": {},
   "source": [
    "# Otto Cycle\n",
    "We will start off with the Otto Cycle"
   ]
  },
  {
   "cell_type": "code",
   "execution_count": 190,
   "metadata": {},
   "outputs": [],
   "source": [
    "# Can't forget the imports :)\n",
    "import numpy as np\n",
    "import matplotlib.pyplot as plt "
   ]
  },
  {
   "attachments": {
    "600px-P-V_Otto_cycle.svg.png": {
     "image/png": "[encoded data removed]"
    }
   },
   "cell_type": "markdown",
   "metadata": {},
   "source": [
    "[Image of Otto Cycle Pressure Volume Diagram](attachment:600px-P-V_Otto_cycle.svg.png)\n",
    "<img src=\"attachment:600px-P-V_Otto_cycle.svg.png\" alt=\"drawing\" width=\"200\"/>\n",
    "\n",
    "*Obtained from : https://en.wikipedia.org/wiki/Otto_cycle*"
   ]
  },
  {
   "cell_type": "markdown",
   "metadata": {},
   "source": [
    "## Input Parameters\n",
    "Now we are setting the given parameters for our simulation. We already have given variables set for a BMW R 1250 GS (4-Stroke flat twin) Motorcycle. **If you wish to use the default variables simple hit enter without inputting anything into the box**. Otherwise you can type in variables for any engine you would like."
   ]
  },
  {
   "cell_type": "code",
   "execution_count": 191,
   "metadata": {},
   "outputs": [
    {
     "name": "stdout",
     "output_type": "stream",
     "text": [
      "Mass of fuel injected to engine (Kg/min)\n",
      "Compression Ratio\n",
      "RPMs\n",
      "Total Capacity (cm^3)\n",
      "Combined Chamber Volume (cm^3)\n",
      "Number of Cylinders\n"
     ]
    }
   ],
   "source": [
    "# Environmental Variables\n",
    "P0 = 1 # 1 Atmosphere\n",
    "T0 = 298 # 24.85 Degrees Celcius\n",
    "k = 1.4 # Constant\n",
    "R = 287 # Ideal Gas Constant\n",
    "Cv = 718 # J/Kg Isochoric Specific Heat of Air at given parameters (Used for constant Volume)\n",
    "Cp = 1005 # J/Kg Isobaric Specific Heat of Air at given parameters (Used for contant Pressure)\n",
    "Hc = 43500000 # J/Kg \n",
    "\n",
    "# Engine Variables\n",
    "Mf = input('Mass of fuel injected to engine (Kg/min)') or 0.47112\n",
    "r = input('Compression Ratio') or 12.5\n",
    "rpm = input('RPMs') or 7750\n",
    "tc = input('Total Capacity (cm^3)') or 1254.24\n",
    "ccv = input('Combined Chamber Volume (cm^3)') or 54.53\n",
    "num_cylinders = input('Number of Cylinders') or 2"
   ]
  },
  {
   "cell_type": "code",
   "execution_count": 192,
   "metadata": {},
   "outputs": [],
   "source": [
    "# These are helper methods that use the PV=mRT formula to solve \n",
    "# for the missing pressure or volume once we know all other variables for a stage\n",
    "\n",
    "totv = (tc + num_cylinders*ccv)\n",
    "density = P0/(R*T0)\n",
    "m_air = totv*density\n",
    "\n",
    "def calcPressure(temp, vol):\n",
    "    return (m_air*R*temp) / vol\n",
    "def calcVolume(temp, press):\n",
    "    return (m_air*R*temp) / press"
   ]
  },
  {
   "cell_type": "markdown",
   "metadata": {},
   "source": [
    "## Calculating V0 and V1\n",
    "Let's start by calculating V0 so then we will have the temperature, pressure, and volume from our first stage, and volume for the second stage."
   ]
  },
  {
   "cell_type": "code",
   "execution_count": 193,
   "metadata": {},
   "outputs": [
    {
     "name": "stdout",
     "output_type": "stream",
     "text": [
      "V0: 1363.3 cm^3\n",
      "V1: 109.064 cm^3\n"
     ]
    }
   ],
   "source": [
    "# Attaining V0 with PV=RT forumula defined in previous method\n",
    "V0 = calcVolume(T0, P0)\n",
    "# Attaining V1 since we know V0 and then the compression ratio which is just the ratio between V0 and V1\n",
    "V1 = V0 / r\n",
    "\n",
    "print('V0:', V0, 'cm^3')\n",
    "print('V1:', V1, 'cm^3')"
   ]
  },
  {
   "cell_type": "markdown",
   "metadata": {},
   "source": [
    "## Isentropic Compression (Stage 0 to 1)\n",
    "This is from Stage 0 to Stage 1 where the piston starts at bottom dead center then starts compressing the gas which decreases volume while increasing temperature and pressure. For the sake of this simulation we are assuming ideal conditions, so it is an isentropic compression.\n",
    "\n",
    "### We start with calculating T1"
   ]
  },
  {
   "cell_type": "code",
   "execution_count": 194,
   "metadata": {},
   "outputs": [
    {
     "name": "stdout",
     "output_type": "stream",
     "text": [
      "T1: 818.4276047630576 K\n"
     ]
    }
   ],
   "source": [
    "T1 = T0*r**(k-1)\n",
    "\n",
    "print('T1:', T1, 'K')"
   ]
  },
  {
   "cell_type": "markdown",
   "metadata": {},
   "source": [
    "### Now that we have T1 and V1 we can get P1 with our previous formula!"
   ]
  },
  {
   "cell_type": "code",
   "execution_count": 195,
   "metadata": {},
   "outputs": [
    {
     "name": "stdout",
     "output_type": "stream",
     "text": [
      "P1: 34.33001697831617 atm\n"
     ]
    }
   ],
   "source": [
    "P1 = calcPressure(T1, V1)\n",
    "\n",
    "print('P1:', P1, 'atm')"
   ]
  },
  {
   "cell_type": "markdown",
   "metadata": {},
   "source": [
    "## Constant Volume Combustion (Stage 1 to 2)\n",
    "Now we get to the exciting part: the actual combustion!"
   ]
  },
  {
   "cell_type": "code",
   "execution_count": 196,
   "metadata": {},
   "outputs": [
    {
     "name": "stdout",
     "output_type": "stream",
     "text": [
      "V2: 109.064 m^3\n"
     ]
    }
   ],
   "source": [
    "V2 = V1\n",
    "\n",
    "print('V2:', V2, 'm^3')"
   ]
  },
  {
   "cell_type": "markdown",
   "metadata": {},
   "source": [
    "### Now we can do some calculations to get the amount of energy that is put in during the combustion to get our T2"
   ]
  },
  {
   "cell_type": "code",
   "execution_count": 197,
   "metadata": {},
   "outputs": [
    {
     "name": "stdout",
     "output_type": "stream",
     "text": [
      "Q In: 2644.350967741935 J\n"
     ]
    }
   ],
   "source": [
    "fuel_burned = Mf / rpm\n",
    "\n",
    "q_in = fuel_burned * Hc\n",
    "print('Q In:', q_in, 'J')"
   ]
  },
  {
   "cell_type": "code",
   "execution_count": 198,
   "metadata": {},
   "outputs": [
    {
     "name": "stdout",
     "output_type": "stream",
     "text": [
      "T2: 1049.4751600530712 K\n"
     ]
    }
   ],
   "source": [
    "T2 = (q_in / (m_air * Cv)) + T1\n",
    "print('T2:', T2, 'K')"
   ]
  },
  {
   "cell_type": "markdown",
   "metadata": {},
   "source": [
    "### With the energy input and the constant volume, we can find the new pressure following the combustion"
   ]
  },
  {
   "cell_type": "code",
   "execution_count": 199,
   "metadata": {},
   "outputs": [
    {
     "name": "stdout",
     "output_type": "stream",
     "text": [
      "P2: 44.021609062628826 atm\n"
     ]
    }
   ],
   "source": [
    "P2 = calcPressure(T2, V2)\n",
    "print('P2:', P2, 'atm')"
   ]
  },
  {
   "cell_type": "markdown",
   "metadata": {},
   "source": [
    "## Isentropic Expansion (Stage 2 to 3)\n",
    "After the combustion we have the cylinder expand which will lower the pressure while increasing the volume. This is the same process we saw in the isentropic compression, but now in reverse. We know that the expansion will result in a volume the same as V0 when we started. We can leverage this information to then calculate T3."
   ]
  },
  {
   "cell_type": "code",
   "execution_count": 200,
   "metadata": {},
   "outputs": [
    {
     "name": "stdout",
     "output_type": "stream",
     "text": [
      "V3: 1363.3 m^3\n",
      "T3: 382.12738167153765 K\n"
     ]
    }
   ],
   "source": [
    "V3 = V0\n",
    "T3 = T2*(V2/V3)**(k-1)\n",
    "print('V3:', V3, 'm^3')\n",
    "print('T3:', T3, 'K')"
   ]
  },
  {
   "cell_type": "markdown",
   "metadata": {},
   "source": [
    "### Now we can use our simple PV=mRT formula again to get our ending pressure"
   ]
  },
  {
   "cell_type": "code",
   "execution_count": 201,
   "metadata": {},
   "outputs": [
    {
     "name": "stdout",
     "output_type": "stream",
     "text": [
      "P3: 1.2823066499044886 atm\n"
     ]
    }
   ],
   "source": [
    "P3 = calcPressure(T3, V3)\n",
    "print('P3:', P3, 'atm')"
   ]
  },
  {
   "cell_type": "markdown",
   "metadata": {},
   "source": [
    "## Constant Volume (Stage 3 to 0)\n",
    "We also can use our newly calculated temperature to get our energy output"
   ]
  },
  {
   "cell_type": "code",
   "execution_count": 202,
   "metadata": {},
   "outputs": [
    {
     "name": "stdout",
     "output_type": "stream",
     "text": [
      "Q Out: 962.8421424216687 J\n"
     ]
    }
   ],
   "source": [
    "q_out = m_air*Cv*(T3-T0)\n",
    "print('Q Out:', q_out, 'J')"
   ]
  },
  {
   "cell_type": "markdown",
   "metadata": {},
   "source": [
    "## Work Analysis\n",
    "Now that we have the energy put into the system as well as the work done, we can calculate the net work and see efficiency."
   ]
  },
  {
   "cell_type": "code",
   "execution_count": 203,
   "metadata": {},
   "outputs": [
    {
     "name": "stdout",
     "output_type": "stream",
     "text": [
      "Net Work 1681.5088253202666 J\n"
     ]
    }
   ],
   "source": [
    "net_work = q_in - q_out\n",
    "print('Net Work', net_work , 'J')"
   ]
  },
  {
   "cell_type": "code",
   "execution_count": 204,
   "metadata": {},
   "outputs": [
    {
     "name": "stdout",
     "output_type": "stream",
     "text": [
      "Efficiency: 63.58871593947838 %\n"
     ]
    }
   ],
   "source": [
    "efficiency = net_work / q_in\n",
    "print('Efficiency:', efficiency*100, '%')"
   ]
  },
  {
   "cell_type": "markdown",
   "metadata": {},
   "source": [
    "## Pressure-Volume Diagram\n",
    "We can now model the relation between pressure and volume throughout the entire Otto Cycle. Since stages 1 to 2 and 3 to 0 are constant volume they are quite easy to graph as vertical lines. The more intricate part is graphing the isentropic compression and expansions. But we can use the Polytropic Process equation for Ideal Gases: $$PV^k=C$$ Where C is a constant, P is pressure, V is volume, and k is the same constant we have had from before. We can solve for C and then create an equation to find pressure dependent on volume."
   ]
  },
  {
   "cell_type": "code",
   "execution_count": 205,
   "metadata": {},
   "outputs": [
    {
     "name": "stdout",
     "output_type": "stream",
     "text": [
      "C1: 24458.398045439408\n",
      "C2: 31363.166459677897\n"
     ]
    }
   ],
   "source": [
    "C1 = P0*V0**k\n",
    "C2 = P2*V2**k\n",
    "print('C1:', C1)\n",
    "print('C2:', C2)"
   ]
  },
  {
   "cell_type": "code",
   "execution_count": 206,
   "metadata": {
    "scrolled": true
   },
   "outputs": [],
   "source": [
    "def PV1(vol):\n",
    "    return C1 / vol**k\n",
    "def PV2(vol):\n",
    "    return C2 / vol**k"
   ]
  },
  {
   "cell_type": "code",
   "execution_count": 207,
   "metadata": {},
   "outputs": [
    {
     "data": {
      "image/png": "[encoded data removed]",
      "text/plain": [
       "<Figure size 432x288 with 1 Axes>"
      ]
     },
     "metadata": {
      "needs_background": "light"
     },
     "output_type": "display_data"
    }
   ],
   "source": [
    "x = np.linspace(V1, V0, 100)\n",
    "y1 = PV1(x)\n",
    "y2 = PV2(x)\n",
    "\n",
    "\n",
    "plt.xlabel('Volume (cm^3)')\n",
    "plt.ylabel('Pressure (atm)')\n",
    "plt.title('Pressure-Volume of Otto Cycle')\n",
    "plt.plot(x, y1)\n",
    "plt.plot(x, y2)\n",
    "plt.vlines(x = V1, ymin = P1, ymax = P2, colors='red')\n",
    "plt.vlines(x = V0, ymin = P0, ymax = P3, colors='green')\n",
    "plt.show()"
   ]
  },
  {
   "cell_type": "markdown",
   "metadata": {},
   "source": [
    "# Diesel Cycle"
   ]
  },
  {
   "cell_type": "markdown",
   "metadata": {},
   "source": [
    "## Input Parameters\n",
    "Now we are setting the given parameters for our simulation. We already have given variables set for a John Deere 7230R Engine. **If you wish to use the default variables simple hit enter without inputting anything into the box**. Otherwise you can type in variables for any engine you would like."
   ]
  },
  {
   "cell_type": "code",
   "execution_count": 208,
   "metadata": {},
   "outputs": [
    {
     "name": "stdout",
     "output_type": "stream",
     "text": [
      "Mass of fuel injected to engine (Kg/min)\n",
      "Compression Ratio\n",
      "RPMs\n",
      "Total Capacity (cm^3)\n",
      "Combined Chamber Volume (cm^3)\n",
      "Number of Cylinders\n"
     ]
    }
   ],
   "source": [
    "\n",
    "# Engine Variables\n",
    "Mf_diesel = input('Mass of fuel injected to engine (Kg/min)') or 0.8174152247\n",
    "r_diesel = input('Compression Ratio') or 17\n",
    "rpm_diesel = input('RPMs') or 2400\n",
    "tc_diesel = input('Total Capacity (cm^3)') or 6724.46\n",
    "ccv_diesel = input('Combined Chamber Volume (cm^3)') or 70.05\n",
    "num_cylinders_diesel = input('Number of Cylinders') or 6"
   ]
  },
  {
   "cell_type": "markdown",
   "metadata": {},
   "source": [
    "## Calculating V0 and V1\n",
    "Let's start by calculating V0 so then we will have the temperature, pressure, and volume from our first stage, and volume for the second stage."
   ]
  },
  {
   "cell_type": "code",
   "execution_count": 209,
   "metadata": {},
   "outputs": [
    {
     "name": "stdout",
     "output_type": "stream",
     "text": [
      "V0: 1363.3 cm^3\n",
      "V1: 80.19411764705882 cm^3\n"
     ]
    }
   ],
   "source": [
    "totv_diesel = (tc_diesel + num_cylinders_diesel*ccv_diesel)\n",
    "density_diesel = P0/(R*T0)\n",
    "m_air_diesel = totv_diesel*density_diesel\n",
    "\n",
    "# Attaining V0 with PV=RT forumula defined in previous method\n",
    "V0_diesel = calcVolume(T0, P0)\n",
    "# Attaining V1 since we know V0 and then the compression ratio which is just the ratio between V0 and V1\n",
    "V1_diesel = V0_diesel / r_diesel\n",
    "\n",
    "print('V0:', V0_diesel, 'cm^3')\n",
    "print('V1:', V1_diesel, 'cm^3')"
   ]
  },
  {
   "cell_type": "markdown",
   "metadata": {},
   "source": [
    "## Isentropic Compression (Stage 0 to 1)\n",
    "This is from Stage 0 to Stage 1 where the piston starts at bottom dead center then starts compressing the gas which decreases volume while increasing temperature and pressure. For the sake of this simulation we are assuming ideal conditions, so it is an isentropic compression. This is the same as the Otto Cycle.\n",
    "\n",
    "### We start with calculating T1"
   ]
  },
  {
   "cell_type": "code",
   "execution_count": 210,
   "metadata": {},
   "outputs": [
    {
     "name": "stdout",
     "output_type": "stream",
     "text": [
      "T1: 925.5413634761239 K\n"
     ]
    }
   ],
   "source": [
    "T1_diesel = T0*r_diesel**(k-1)\n",
    "\n",
    "print('T1:', T1_diesel, 'K')"
   ]
  },
  {
   "cell_type": "markdown",
   "metadata": {},
   "source": [
    "### Now that we have T1 and V1 we can get P1 with our previous formula!"
   ]
  },
  {
   "cell_type": "code",
   "execution_count": 211,
   "metadata": {},
   "outputs": [
    {
     "name": "stdout",
     "output_type": "stream",
     "text": [
      "P1: 52.79933952716144 atm\n"
     ]
    }
   ],
   "source": [
    "P1_diesel = calcPressure(T1_diesel, V1_diesel)\n",
    "\n",
    "print('P1:', P1_diesel, 'atm')"
   ]
  },
  {
   "cell_type": "markdown",
   "metadata": {},
   "source": [
    "## Constant Pressure Expansion (Stage 1 to 2)\n",
    "This is where things start to differ from the Otto cycle. Instead of a constant volume combustion, we have a constant pressure expansion. Additionally, in the Diesel cycle there is no spark for combustion. Rather the combusion comes from the high pressure itself."
   ]
  },
  {
   "cell_type": "code",
   "execution_count": 212,
   "metadata": {},
   "outputs": [
    {
     "name": "stdout",
     "output_type": "stream",
     "text": [
      "P2: 52.79933952716144 atm\n"
     ]
    }
   ],
   "source": [
    "P2_diesel = P1_diesel\n",
    "\n",
    "print('P2:', P2_diesel, 'atm')"
   ]
  },
  {
   "cell_type": "code",
   "execution_count": 213,
   "metadata": {},
   "outputs": [
    {
     "name": "stdout",
     "output_type": "stream",
     "text": [
      "Q In: 14815.6509476875 J\n"
     ]
    }
   ],
   "source": [
    "fuel_burned_diesel = Mf_diesel / rpm_diesel\n",
    "\n",
    "q_in_diesel = fuel_burned_diesel * Hc\n",
    "print('Q In:', q_in_diesel, 'J')"
   ]
  },
  {
   "cell_type": "code",
   "execution_count": 214,
   "metadata": {},
   "outputs": [
    {
     "name": "stdout",
     "output_type": "stream",
     "text": [
      "T2: 1102.0090498111201 K\n"
     ]
    }
   ],
   "source": [
    "# Now we can use the same formula as before to get T2, but using Cp instead of Cv since this is constant pressure\n",
    "T2_diesel = (q_in_diesel / (m_air_diesel * Cp)) + T1_diesel\n",
    "print('T2:', T2_diesel, 'K')"
   ]
  },
  {
   "cell_type": "code",
   "execution_count": 215,
   "metadata": {},
   "outputs": [
    {
     "name": "stdout",
     "output_type": "stream",
     "text": [
      "V2: 95.48427209861404\n"
     ]
    }
   ],
   "source": [
    "V2_diesel = calcVolume(T2_diesel, P2_diesel)\n",
    "print('V2:', V2_diesel)"
   ]
  },
  {
   "cell_type": "markdown",
   "metadata": {},
   "source": [
    "## Isentropic Expansion (Stage 2 to 3)\n",
    "Once again, we can follow the same steps as the Otto cycle to analyze this isentropic expansion."
   ]
  },
  {
   "cell_type": "code",
   "execution_count": 216,
   "metadata": {},
   "outputs": [
    {
     "name": "stdout",
     "output_type": "stream",
     "text": [
      "V3: 1363.3 cm^3\n",
      "T3: 380.47079318499834 K\n"
     ]
    }
   ],
   "source": [
    "V3_diesel = V0\n",
    "T3_diesel = T2_diesel*(V2_diesel/V3_diesel)**(k-1)\n",
    "print('V3:', V3_diesel, 'cm^3')\n",
    "print('T3:', T3_diesel, 'K')"
   ]
  },
  {
   "cell_type": "code",
   "execution_count": 217,
   "metadata": {},
   "outputs": [
    {
     "name": "stdout",
     "output_type": "stream",
     "text": [
      "P3: 1.2767476281375782 atm\n"
     ]
    }
   ],
   "source": [
    "P3_diesel = calcPressure(T3_diesel, V3_diesel)\n",
    "print('P3:', P3_diesel, 'atm')"
   ]
  },
  {
   "cell_type": "markdown",
   "metadata": {},
   "source": [
    "## Constant Volume (Stage 3 to 0)\n",
    "Follow same steps as Otto"
   ]
  },
  {
   "cell_type": "code",
   "execution_count": 218,
   "metadata": {},
   "outputs": [
    {
     "name": "stdout",
     "output_type": "stream",
     "text": [
      "Q Out: 4946.6832245072865 J\n"
     ]
    }
   ],
   "source": [
    "q_out_diesel = m_air_diesel*Cv*(T3_diesel-T0)\n",
    "print('Q Out:', q_out_diesel, 'J')"
   ]
  },
  {
   "cell_type": "markdown",
   "metadata": {},
   "source": [
    "## Work Analysis\n",
    "Now that we have the energy put into the system as well as the work done, we can calculate the net work and see efficiency."
   ]
  },
  {
   "cell_type": "code",
   "execution_count": 219,
   "metadata": {},
   "outputs": [
    {
     "name": "stdout",
     "output_type": "stream",
     "text": [
      "Net Work 9868.967723180212 J\n"
     ]
    }
   ],
   "source": [
    "net_work_diesel = q_in_diesel - q_out_diesel\n",
    "print('Net Work', net_work_diesel , 'J')"
   ]
  },
  {
   "cell_type": "code",
   "execution_count": 220,
   "metadata": {},
   "outputs": [
    {
     "name": "stdout",
     "output_type": "stream",
     "text": [
      "Efficiency: 66.61177263170208 %\n"
     ]
    }
   ],
   "source": [
    "efficiency_diesel = net_work_diesel / q_in_diesel\n",
    "print('Efficiency:', efficiency_diesel*100, '%')"
   ]
  },
  {
   "cell_type": "markdown",
   "metadata": {},
   "source": [
    "## Pressure-Volume Diagram\n",
    "We can now model the relation between pressure and volume throughout the entire Diesel Cycle. This will be quite similar to the Otto cycle, except now the constant volume expansion in the Otto will be a constant pressure expansion here in the Diesel. Let's see what kind of difference it makes!"
   ]
  },
  {
   "cell_type": "code",
   "execution_count": 221,
   "metadata": {},
   "outputs": [
    {
     "name": "stdout",
     "output_type": "stream",
     "text": [
      "C1: 24458.398045439408\n",
      "C2: 31227.201692559545\n"
     ]
    }
   ],
   "source": [
    "C1_diesel = P0*V0_diesel**k\n",
    "C2_diesel = P2_diesel*V2_diesel**k\n",
    "print('C1:', C1_diesel)\n",
    "print('C2:', C2_diesel)"
   ]
  },
  {
   "cell_type": "code",
   "execution_count": 222,
   "metadata": {},
   "outputs": [],
   "source": [
    "def PV1_diesel(vol):\n",
    "    return C1_diesel / vol**k\n",
    "def PV2_diesel(vol):\n",
    "    return C2_diesel / vol**k"
   ]
  },
  {
   "cell_type": "code",
   "execution_count": 223,
   "metadata": {},
   "outputs": [
    {
     "data": {
      "image/png": "[encoded data removed]",
      "text/plain": [
       "<Figure size 432x288 with 1 Axes>"
      ]
     },
     "metadata": {
      "needs_background": "light"
     },
     "output_type": "display_data"
    }
   ],
   "source": [
    "x1_diesel = np.linspace(V1_diesel, V0_diesel, 100)\n",
    "x2_diesel = np.linspace(V2_diesel,V3_diesel, 100)\n",
    "y1_diesel = PV1(x1_diesel)\n",
    "y2_diesel = PV2(x2_diesel)\n",
    "\n",
    "\n",
    "plt.xlabel('Volume (cm^3)')\n",
    "plt.ylabel('Pressure (atm)')\n",
    "plt.title('Pressure-Volume of Otto Cycle')\n",
    "plt.plot(x1_diesel, y1_diesel)\n",
    "plt.plot(x2_diesel, y2_diesel)\n",
    "plt.hlines(y = P1_diesel, xmin = V1_diesel, xmax = V2_diesel, colors='green')\n",
    "plt.vlines(x = V0_diesel, ymin = P0, ymax = P3_diesel, colors='green')\n",
    "plt.show()"
   ]
  },
  {
   "cell_type": "code",
   "execution_count": null,
   "metadata": {},
   "outputs": [],
   "source": []
  }
 ],
 "metadata": {
  "kernelspec": {
   "display_name": "Python 3",
   "language": "python",
   "name": "python3"
  },
  "language_info": {
   "codemirror_mode": {
    "name": "ipython",
    "version": 3
   },
   "file_extension": ".py",
   "mimetype": "text/x-python",
   "name": "python",
   "nbconvert_exporter": "python",
   "pygments_lexer": "ipython3",
   "version": "3.7.0"
  }
 },
 "nbformat": 4,
 "nbformat_minor": 4
}
